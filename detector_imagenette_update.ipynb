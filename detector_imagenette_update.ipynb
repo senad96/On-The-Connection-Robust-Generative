{
 "cells": [
  {
   "cell_type": "markdown",
   "id": "a13957a2-e1f4-4af8-90d7-897d9eb49bf3",
   "metadata": {},
   "source": [
    "# Detector with Energy Function"
   ]
  },
  {
   "cell_type": "code",
   "execution_count": 12,
   "id": "b0c1c54a-3a6f-436e-b9d4-b83bec6798cf",
   "metadata": {},
   "outputs": [
    {
     "name": "stdout",
     "output_type": "stream",
     "text": [
      "Looking in indexes: https://pypi.org/simple, https://pypi.ngc.nvidia.com\n",
      "Requirement already satisfied: numpy in /opt/conda/lib/python3.8/site-packages (1.22.2)\n",
      "Requirement already satisfied: scipy in /opt/conda/lib/python3.8/site-packages (1.6.3)\n",
      "Requirement already satisfied: matplotlib in /opt/conda/lib/python3.8/site-packages (3.5.1)\n",
      "Requirement already satisfied: nose in /opt/conda/lib/python3.8/site-packages (1.3.7)\n",
      "Requirement already satisfied: packaging>=20.0 in /opt/conda/lib/python3.8/site-packages (from matplotlib) (21.3)\n",
      "Requirement already satisfied: kiwisolver>=1.0.1 in /opt/conda/lib/python3.8/site-packages (from matplotlib) (1.3.2)\n",
      "Requirement already satisfied: pillow>=6.2.0 in /opt/conda/lib/python3.8/site-packages (from matplotlib) (9.0.0)\n",
      "Requirement already satisfied: fonttools>=4.22.0 in /opt/conda/lib/python3.8/site-packages (from matplotlib) (4.29.1)\n",
      "Requirement already satisfied: pyparsing>=2.2.1 in /opt/conda/lib/python3.8/site-packages (from matplotlib) (3.0.7)\n",
      "Requirement already satisfied: cycler>=0.10 in /opt/conda/lib/python3.8/site-packages (from matplotlib) (0.11.0)\n",
      "Requirement already satisfied: python-dateutil>=2.7 in /opt/conda/lib/python3.8/site-packages (from matplotlib) (2.8.2)\n",
      "Requirement already satisfied: six>=1.5 in /opt/conda/lib/python3.8/site-packages (from python-dateutil>=2.7->matplotlib) (1.16.0)\n",
      "\u001b[33mWARNING: Running pip as the 'root' user can result in broken permissions and conflicting behaviour with the system package manager. It is recommended to use a virtual environment instead: https://pip.pypa.io/warnings/venv\u001b[0m\n",
      "Looking in indexes: https://pypi.org/simple, https://pypi.ngc.nvidia.com\n",
      "Requirement already satisfied: ipywidgets in /opt/conda/lib/python3.8/site-packages (7.7.0)\n",
      "Requirement already satisfied: widgetsnbextension~=3.6.0 in /opt/conda/lib/python3.8/site-packages (from ipywidgets) (3.6.0)\n",
      "Requirement already satisfied: ipykernel>=4.5.1 in /opt/conda/lib/python3.8/site-packages (from ipywidgets) (6.9.0)\n",
      "Requirement already satisfied: traitlets>=4.3.1 in /opt/conda/lib/python3.8/site-packages (from ipywidgets) (5.1.1)\n",
      "Requirement already satisfied: nbformat>=4.2.0 in /opt/conda/lib/python3.8/site-packages (from ipywidgets) (5.2.0)\n",
      "Requirement already satisfied: jupyterlab-widgets>=1.0.0 in /opt/conda/lib/python3.8/site-packages (from ipywidgets) (1.1.0)\n",
      "Requirement already satisfied: ipython>=4.0.0 in /opt/conda/lib/python3.8/site-packages (from ipywidgets) (8.0.1)\n",
      "Requirement already satisfied: ipython-genutils~=0.2.0 in /opt/conda/lib/python3.8/site-packages (from ipywidgets) (0.2.0)\n",
      "Requirement already satisfied: tornado<7.0,>=4.2 in /opt/conda/lib/python3.8/site-packages (from ipykernel>=4.5.1->ipywidgets) (6.1)\n",
      "Requirement already satisfied: debugpy<2.0,>=1.0.0 in /opt/conda/lib/python3.8/site-packages (from ipykernel>=4.5.1->ipywidgets) (1.5.1)\n",
      "Requirement already satisfied: matplotlib-inline<0.2.0,>=0.1.0 in /opt/conda/lib/python3.8/site-packages (from ipykernel>=4.5.1->ipywidgets) (0.1.3)\n",
      "Requirement already satisfied: jupyter-client<8.0 in /opt/conda/lib/python3.8/site-packages (from ipykernel>=4.5.1->ipywidgets) (7.1.2)\n",
      "Requirement already satisfied: nest-asyncio in /opt/conda/lib/python3.8/site-packages (from ipykernel>=4.5.1->ipywidgets) (1.5.4)\n",
      "Requirement already satisfied: prompt-toolkit!=3.0.0,!=3.0.1,<3.1.0,>=2.0.0 in /opt/conda/lib/python3.8/site-packages (from ipython>=4.0.0->ipywidgets) (3.0.26)\n",
      "Requirement already satisfied: setuptools>=18.5 in /opt/conda/lib/python3.8/site-packages (from ipython>=4.0.0->ipywidgets) (59.5.0)\n",
      "Requirement already satisfied: jedi>=0.16 in /opt/conda/lib/python3.8/site-packages (from ipython>=4.0.0->ipywidgets) (0.18.1)\n",
      "Requirement already satisfied: pygments in /opt/conda/lib/python3.8/site-packages (from ipython>=4.0.0->ipywidgets) (2.11.2)\n",
      "Requirement already satisfied: pexpect>4.3 in /opt/conda/lib/python3.8/site-packages (from ipython>=4.0.0->ipywidgets) (4.8.0)\n",
      "Requirement already satisfied: stack-data in /opt/conda/lib/python3.8/site-packages (from ipython>=4.0.0->ipywidgets) (0.1.4)\n",
      "Requirement already satisfied: decorator in /opt/conda/lib/python3.8/site-packages (from ipython>=4.0.0->ipywidgets) (5.1.1)\n",
      "Requirement already satisfied: black in /opt/conda/lib/python3.8/site-packages (from ipython>=4.0.0->ipywidgets) (22.1.0)\n",
      "Requirement already satisfied: backcall in /opt/conda/lib/python3.8/site-packages (from ipython>=4.0.0->ipywidgets) (0.2.0)\n",
      "Requirement already satisfied: pickleshare in /opt/conda/lib/python3.8/site-packages (from ipython>=4.0.0->ipywidgets) (0.7.5)\n",
      "Requirement already satisfied: parso<0.9.0,>=0.8.0 in /opt/conda/lib/python3.8/site-packages (from jedi>=0.16->ipython>=4.0.0->ipywidgets) (0.8.3)\n",
      "Requirement already satisfied: entrypoints in /opt/conda/lib/python3.8/site-packages (from jupyter-client<8.0->ipykernel>=4.5.1->ipywidgets) (0.3)\n",
      "Requirement already satisfied: python-dateutil>=2.1 in /opt/conda/lib/python3.8/site-packages (from jupyter-client<8.0->ipykernel>=4.5.1->ipywidgets) (2.8.2)\n",
      "Requirement already satisfied: pyzmq>=13 in /opt/conda/lib/python3.8/site-packages (from jupyter-client<8.0->ipykernel>=4.5.1->ipywidgets) (22.3.0)\n",
      "Requirement already satisfied: jupyter-core>=4.6.0 in /opt/conda/lib/python3.8/site-packages (from jupyter-client<8.0->ipykernel>=4.5.1->ipywidgets) (4.9.1)\n",
      "Requirement already satisfied: jsonschema!=2.5.0,>=2.4 in /opt/conda/lib/python3.8/site-packages (from nbformat>=4.2.0->ipywidgets) (4.4.0)\n",
      "Requirement already satisfied: importlib-resources>=1.4.0 in /opt/conda/lib/python3.8/site-packages (from jsonschema!=2.5.0,>=2.4->nbformat>=4.2.0->ipywidgets) (5.4.0)\n",
      "Requirement already satisfied: attrs>=17.4.0 in /opt/conda/lib/python3.8/site-packages (from jsonschema!=2.5.0,>=2.4->nbformat>=4.2.0->ipywidgets) (18.2.0)\n",
      "Requirement already satisfied: pyrsistent!=0.17.0,!=0.17.1,!=0.17.2,>=0.14.0 in /opt/conda/lib/python3.8/site-packages (from jsonschema!=2.5.0,>=2.4->nbformat>=4.2.0->ipywidgets) (0.18.1)\n",
      "Requirement already satisfied: zipp>=3.1.0 in /opt/conda/lib/python3.8/site-packages (from importlib-resources>=1.4.0->jsonschema!=2.5.0,>=2.4->nbformat>=4.2.0->ipywidgets) (3.7.0)\n",
      "Requirement already satisfied: ptyprocess>=0.5 in /opt/conda/lib/python3.8/site-packages (from pexpect>4.3->ipython>=4.0.0->ipywidgets) (0.7.0)\n",
      "Requirement already satisfied: wcwidth in /opt/conda/lib/python3.8/site-packages (from prompt-toolkit!=3.0.0,!=3.0.1,<3.1.0,>=2.0.0->ipython>=4.0.0->ipywidgets) (0.2.5)\n",
      "Requirement already satisfied: six>=1.5 in /opt/conda/lib/python3.8/site-packages (from python-dateutil>=2.1->jupyter-client<8.0->ipykernel>=4.5.1->ipywidgets) (1.16.0)\n",
      "Requirement already satisfied: notebook>=4.4.1 in /opt/conda/lib/python3.8/site-packages (from widgetsnbextension~=3.6.0->ipywidgets) (6.4.1)\n",
      "Requirement already satisfied: jinja2 in /opt/conda/lib/python3.8/site-packages (from notebook>=4.4.1->widgetsnbextension~=3.6.0->ipywidgets) (3.0.3)\n",
      "Requirement already satisfied: Send2Trash>=1.5.0 in /opt/conda/lib/python3.8/site-packages (from notebook>=4.4.1->widgetsnbextension~=3.6.0->ipywidgets) (1.8.0)\n",
      "Requirement already satisfied: nbconvert in /opt/conda/lib/python3.8/site-packages (from notebook>=4.4.1->widgetsnbextension~=3.6.0->ipywidgets) (6.4.2)\n",
      "Requirement already satisfied: terminado>=0.8.3 in /opt/conda/lib/python3.8/site-packages (from notebook>=4.4.1->widgetsnbextension~=3.6.0->ipywidgets) (0.13.1)\n",
      "Requirement already satisfied: prometheus-client in /opt/conda/lib/python3.8/site-packages (from notebook>=4.4.1->widgetsnbextension~=3.6.0->ipywidgets) (0.9.0)\n",
      "Requirement already satisfied: argon2-cffi in /opt/conda/lib/python3.8/site-packages (from notebook>=4.4.1->widgetsnbextension~=3.6.0->ipywidgets) (21.3.0)\n",
      "Requirement already satisfied: argon2-cffi-bindings in /opt/conda/lib/python3.8/site-packages (from argon2-cffi->notebook>=4.4.1->widgetsnbextension~=3.6.0->ipywidgets) (21.2.0)\n",
      "Requirement already satisfied: cffi>=1.0.1 in /opt/conda/lib/python3.8/site-packages (from argon2-cffi-bindings->argon2-cffi->notebook>=4.4.1->widgetsnbextension~=3.6.0->ipywidgets) (1.15.0)\n",
      "Requirement already satisfied: pycparser in /opt/conda/lib/python3.8/site-packages (from cffi>=1.0.1->argon2-cffi-bindings->argon2-cffi->notebook>=4.4.1->widgetsnbextension~=3.6.0->ipywidgets) (2.21)\n",
      "Requirement already satisfied: pathspec>=0.9.0 in /opt/conda/lib/python3.8/site-packages (from black->ipython>=4.0.0->ipywidgets) (0.9.0)\n",
      "Requirement already satisfied: mypy-extensions>=0.4.3 in /opt/conda/lib/python3.8/site-packages (from black->ipython>=4.0.0->ipywidgets) (0.4.3)\n",
      "Requirement already satisfied: tomli>=1.1.0 in /opt/conda/lib/python3.8/site-packages (from black->ipython>=4.0.0->ipywidgets) (2.0.1)\n",
      "Requirement already satisfied: typing-extensions>=3.10.0.0 in /opt/conda/lib/python3.8/site-packages (from black->ipython>=4.0.0->ipywidgets) (4.0.1)\n",
      "Requirement already satisfied: platformdirs>=2 in /opt/conda/lib/python3.8/site-packages (from black->ipython>=4.0.0->ipywidgets) (2.4.1)\n",
      "Requirement already satisfied: click>=8.0.0 in /opt/conda/lib/python3.8/site-packages (from black->ipython>=4.0.0->ipywidgets) (8.0.3)\n",
      "Requirement already satisfied: MarkupSafe>=2.0 in /opt/conda/lib/python3.8/site-packages (from jinja2->notebook>=4.4.1->widgetsnbextension~=3.6.0->ipywidgets) (2.0.1)\n",
      "Requirement already satisfied: jupyterlab-pygments in /opt/conda/lib/python3.8/site-packages (from nbconvert->notebook>=4.4.1->widgetsnbextension~=3.6.0->ipywidgets) (0.1.2)\n",
      "Requirement already satisfied: pandocfilters>=1.4.1 in /opt/conda/lib/python3.8/site-packages (from nbconvert->notebook>=4.4.1->widgetsnbextension~=3.6.0->ipywidgets) (1.5.0)\n",
      "Requirement already satisfied: bleach in /opt/conda/lib/python3.8/site-packages (from nbconvert->notebook>=4.4.1->widgetsnbextension~=3.6.0->ipywidgets) (4.1.0)\n",
      "Requirement already satisfied: mistune<2,>=0.8.1 in /opt/conda/lib/python3.8/site-packages (from nbconvert->notebook>=4.4.1->widgetsnbextension~=3.6.0->ipywidgets) (0.8.4)\n",
      "Requirement already satisfied: nbclient<0.6.0,>=0.5.0 in /opt/conda/lib/python3.8/site-packages (from nbconvert->notebook>=4.4.1->widgetsnbextension~=3.6.0->ipywidgets) (0.5.11)\n",
      "Requirement already satisfied: defusedxml in /opt/conda/lib/python3.8/site-packages (from nbconvert->notebook>=4.4.1->widgetsnbextension~=3.6.0->ipywidgets) (0.7.1)\n",
      "Requirement already satisfied: testpath in /opt/conda/lib/python3.8/site-packages (from nbconvert->notebook>=4.4.1->widgetsnbextension~=3.6.0->ipywidgets) (0.5.0)\n",
      "Requirement already satisfied: packaging in /opt/conda/lib/python3.8/site-packages (from bleach->nbconvert->notebook>=4.4.1->widgetsnbextension~=3.6.0->ipywidgets) (21.3)\n",
      "Requirement already satisfied: webencodings in /opt/conda/lib/python3.8/site-packages (from bleach->nbconvert->notebook>=4.4.1->widgetsnbextension~=3.6.0->ipywidgets) (0.5.1)\n",
      "Requirement already satisfied: pyparsing!=3.0.5,>=2.0.2 in /opt/conda/lib/python3.8/site-packages (from packaging->bleach->nbconvert->notebook>=4.4.1->widgetsnbextension~=3.6.0->ipywidgets) (3.0.7)\n",
      "Requirement already satisfied: asttokens in /opt/conda/lib/python3.8/site-packages (from stack-data->ipython>=4.0.0->ipywidgets) (2.0.5)\n",
      "Requirement already satisfied: pure-eval in /opt/conda/lib/python3.8/site-packages (from stack-data->ipython>=4.0.0->ipywidgets) (0.2.2)\n",
      "Requirement already satisfied: executing in /opt/conda/lib/python3.8/site-packages (from stack-data->ipython>=4.0.0->ipywidgets) (0.8.2)\n",
      "\u001b[33mWARNING: Running pip as the 'root' user can result in broken permissions and conflicting behaviour with the system package manager. It is recommended to use a virtual environment instead: https://pip.pypa.io/warnings/venv\u001b[0m\n",
      "Looking in indexes: https://pypi.org/simple, https://pypi.ngc.nvidia.com\n",
      "Requirement already satisfied: torchattacks in /opt/conda/lib/python3.8/site-packages (3.4.0)\n",
      "Requirement already satisfied: torch>=1.7.1 in /opt/conda/lib/python3.8/site-packages (from torchattacks) (2.0.0)\n",
      "Requirement already satisfied: torchvision>=0.8.2 in /opt/conda/lib/python3.8/site-packages (from torchattacks) (0.15.1)\n",
      "Requirement already satisfied: tqdm>=4.56.1 in /opt/conda/lib/python3.8/site-packages (from torchattacks) (4.62.3)\n",
      "Requirement already satisfied: numpy>=1.19.4 in /opt/conda/lib/python3.8/site-packages (from torchattacks) (1.22.2)\n",
      "Requirement already satisfied: scipy>=0.14.0 in /opt/conda/lib/python3.8/site-packages (from torchattacks) (1.6.3)\n",
      "Requirement already satisfied: requests~=2.25.1 in /opt/conda/lib/python3.8/site-packages (from torchattacks) (2.25.1)\n",
      "Requirement already satisfied: chardet<5,>=3.0.2 in /opt/conda/lib/python3.8/site-packages (from requests~=2.25.1->torchattacks) (4.0.0)\n",
      "Requirement already satisfied: urllib3<1.27,>=1.21.1 in /opt/conda/lib/python3.8/site-packages (from requests~=2.25.1->torchattacks) (1.26.7)\n",
      "Requirement already satisfied: certifi>=2017.4.17 in /opt/conda/lib/python3.8/site-packages (from requests~=2.25.1->torchattacks) (2021.10.8)\n",
      "Requirement already satisfied: idna<3,>=2.5 in /opt/conda/lib/python3.8/site-packages (from requests~=2.25.1->torchattacks) (2.10)\n",
      "Requirement already satisfied: jinja2 in /opt/conda/lib/python3.8/site-packages (from torch>=1.7.1->torchattacks) (3.0.3)\n",
      "Requirement already satisfied: nvidia-cuda-cupti-cu11==11.7.101 in /opt/conda/lib/python3.8/site-packages (from torch>=1.7.1->torchattacks) (11.7.101)\n",
      "Requirement already satisfied: nvidia-cublas-cu11==11.10.3.66 in /opt/conda/lib/python3.8/site-packages (from torch>=1.7.1->torchattacks) (11.10.3.66)\n",
      "Requirement already satisfied: nvidia-cuda-runtime-cu11==11.7.99 in /opt/conda/lib/python3.8/site-packages (from torch>=1.7.1->torchattacks) (11.7.99)\n",
      "Requirement already satisfied: nvidia-nccl-cu11==2.14.3 in /opt/conda/lib/python3.8/site-packages (from torch>=1.7.1->torchattacks) (2.14.3)\n",
      "Requirement already satisfied: sympy in /opt/conda/lib/python3.8/site-packages (from torch>=1.7.1->torchattacks) (1.11.1)\n",
      "Requirement already satisfied: nvidia-curand-cu11==10.2.10.91 in /opt/conda/lib/python3.8/site-packages (from torch>=1.7.1->torchattacks) (10.2.10.91)\n",
      "Requirement already satisfied: nvidia-cusolver-cu11==11.4.0.1 in /opt/conda/lib/python3.8/site-packages (from torch>=1.7.1->torchattacks) (11.4.0.1)\n",
      "Requirement already satisfied: triton==2.0.0 in /opt/conda/lib/python3.8/site-packages (from torch>=1.7.1->torchattacks) (2.0.0)\n",
      "Requirement already satisfied: nvidia-cusparse-cu11==11.7.4.91 in /opt/conda/lib/python3.8/site-packages (from torch>=1.7.1->torchattacks) (11.7.4.91)\n",
      "Requirement already satisfied: typing-extensions in /opt/conda/lib/python3.8/site-packages (from torch>=1.7.1->torchattacks) (4.0.1)\n",
      "Requirement already satisfied: nvidia-cuda-nvrtc-cu11==11.7.99 in /opt/conda/lib/python3.8/site-packages (from torch>=1.7.1->torchattacks) (11.7.99)\n",
      "Requirement already satisfied: nvidia-cudnn-cu11==8.5.0.96 in /opt/conda/lib/python3.8/site-packages (from torch>=1.7.1->torchattacks) (8.5.0.96)\n",
      "Requirement already satisfied: networkx in /opt/conda/lib/python3.8/site-packages (from torch>=1.7.1->torchattacks) (2.6.3)\n",
      "Requirement already satisfied: nvidia-cufft-cu11==10.9.0.58 in /opt/conda/lib/python3.8/site-packages (from torch>=1.7.1->torchattacks) (10.9.0.58)\n",
      "Requirement already satisfied: nvidia-nvtx-cu11==11.7.91 in /opt/conda/lib/python3.8/site-packages (from torch>=1.7.1->torchattacks) (11.7.91)\n",
      "Requirement already satisfied: filelock in /opt/conda/lib/python3.8/site-packages (from torch>=1.7.1->torchattacks) (3.4.2)\n",
      "Requirement already satisfied: wheel in /opt/conda/lib/python3.8/site-packages (from nvidia-cublas-cu11==11.10.3.66->torch>=1.7.1->torchattacks) (0.35.1)\n",
      "Requirement already satisfied: setuptools in /opt/conda/lib/python3.8/site-packages (from nvidia-cublas-cu11==11.10.3.66->torch>=1.7.1->torchattacks) (59.5.0)\n",
      "Requirement already satisfied: lit in /opt/conda/lib/python3.8/site-packages (from triton==2.0.0->torch>=1.7.1->torchattacks) (16.0.2)\n",
      "Requirement already satisfied: cmake in /opt/conda/lib/python3.8/site-packages (from triton==2.0.0->torch>=1.7.1->torchattacks) (3.26.3)\n",
      "Requirement already satisfied: pillow!=8.3.*,>=5.3.0 in /opt/conda/lib/python3.8/site-packages (from torchvision>=0.8.2->torchattacks) (9.0.0)\n",
      "Requirement already satisfied: MarkupSafe>=2.0 in /opt/conda/lib/python3.8/site-packages (from jinja2->torch>=1.7.1->torchattacks) (2.0.1)\n",
      "Requirement already satisfied: mpmath>=0.19 in /opt/conda/lib/python3.8/site-packages (from sympy->torch>=1.7.1->torchattacks) (1.3.0)\n",
      "\u001b[33mWARNING: Running pip as the 'root' user can result in broken permissions and conflicting behaviour with the system package manager. It is recommended to use a virtual environment instead: https://pip.pypa.io/warnings/venv\u001b[0m\n",
      "Looking in indexes: https://pypi.org/simple, https://pypi.ngc.nvidia.com\n",
      "Requirement already satisfied: seaborn in /opt/conda/lib/python3.8/site-packages (0.12.2)\n",
      "Requirement already satisfied: matplotlib!=3.6.1,>=3.1 in /opt/conda/lib/python3.8/site-packages (from seaborn) (3.5.1)\n",
      "Requirement already satisfied: pandas>=0.25 in /opt/conda/lib/python3.8/site-packages (from seaborn) (1.3.5)\n",
      "Requirement already satisfied: numpy!=1.24.0,>=1.17 in /opt/conda/lib/python3.8/site-packages (from seaborn) (1.22.2)\n",
      "Requirement already satisfied: kiwisolver>=1.0.1 in /opt/conda/lib/python3.8/site-packages (from matplotlib!=3.6.1,>=3.1->seaborn) (1.3.2)\n",
      "Requirement already satisfied: pyparsing>=2.2.1 in /opt/conda/lib/python3.8/site-packages (from matplotlib!=3.6.1,>=3.1->seaborn) (3.0.7)\n",
      "Requirement already satisfied: packaging>=20.0 in /opt/conda/lib/python3.8/site-packages (from matplotlib!=3.6.1,>=3.1->seaborn) (21.3)\n",
      "Requirement already satisfied: python-dateutil>=2.7 in /opt/conda/lib/python3.8/site-packages (from matplotlib!=3.6.1,>=3.1->seaborn) (2.8.2)\n",
      "Requirement already satisfied: pillow>=6.2.0 in /opt/conda/lib/python3.8/site-packages (from matplotlib!=3.6.1,>=3.1->seaborn) (9.0.0)\n",
      "Requirement already satisfied: fonttools>=4.22.0 in /opt/conda/lib/python3.8/site-packages (from matplotlib!=3.6.1,>=3.1->seaborn) (4.29.1)\n",
      "Requirement already satisfied: cycler>=0.10 in /opt/conda/lib/python3.8/site-packages (from matplotlib!=3.6.1,>=3.1->seaborn) (0.11.0)\n",
      "Requirement already satisfied: pytz>=2017.3 in /opt/conda/lib/python3.8/site-packages (from pandas>=0.25->seaborn) (2021.3)\n",
      "Requirement already satisfied: six>=1.5 in /opt/conda/lib/python3.8/site-packages (from python-dateutil>=2.7->matplotlib!=3.6.1,>=3.1->seaborn) (1.16.0)\n",
      "\u001b[33mWARNING: Running pip as the 'root' user can result in broken permissions and conflicting behaviour with the system package manager. It is recommended to use a virtual environment instead: https://pip.pypa.io/warnings/venv\u001b[0m\n"
     ]
    }
   ],
   "source": [
    "# INSTALL LIBRARY FOR G-CNNS\n",
    "! pip install numpy scipy matplotlib nose\n",
    "! pip install ipywidgets\n",
    "\n",
    "! pip install torchattacks\n",
    "! pip install seaborn"
   ]
  },
  {
   "cell_type": "code",
   "execution_count": 13,
   "id": "fb632343-913b-40a0-8ae8-bd0b70edb002",
   "metadata": {
    "id": "2WPASAQOxeep",
    "tags": []
   },
   "outputs": [],
   "source": [
    "import torch\n",
    "import numpy as np\n",
    "import sklearn\n",
    "import scipy\n",
    "import pandas as pd\n",
    "import torch\n",
    "import matplotlib.pyplot as plt\n",
    "\n",
    "import torchvision\n",
    "from typing import *\n",
    "from torch import nn\n",
    "from torch import optim\n",
    "from torch.utils.data import Dataset, DataLoader\n",
    "\n",
    "from torch.nn import functional as F\n",
    "from torch.nn import Conv2d\n",
    "from torch.nn import MaxPool2d as MaxPool2d\n",
    "from tqdm import tqdm\n",
    "import torchvision.models as models\n",
    "import torchvision.datasets as datasets \n",
    "import torchvision.transforms as transforms"
   ]
  },
  {
   "cell_type": "markdown",
   "id": "c4fdec97-272c-47b8-a25f-c71c844fb8cb",
   "metadata": {},
   "source": [
    "# Reproducibility stuff"
   ]
  },
  {
   "cell_type": "code",
   "execution_count": 14,
   "id": "39523049-ff2c-4e92-b461-e6e49c66237f",
   "metadata": {},
   "outputs": [
    {
     "name": "stdout",
     "output_type": "stream",
     "text": [
      "Using device: cuda:0\n"
     ]
    }
   ],
   "source": [
    "#REPRODUCIABILYT STUFF\n",
    "\n",
    "device = torch.device(\"cuda:0\" if torch.cuda.is_available() else \"cpu\")\n",
    "print(f'Using device: {device}')\n",
    "\n",
    "import random\n",
    "import numpy as np\n",
    "torch.manual_seed(0)\n",
    "np.random.seed(0)\n",
    "random.seed(0)\n",
    "torch.backends.cudnn.benchmark = False\n",
    "\n",
    "torch.cuda.manual_seed(0)\n",
    "\n",
    "from notebook.services.config import ConfigManager\n",
    "cm = ConfigManager().update('notebook', {'limit_output': 5000})"
   ]
  },
  {
   "cell_type": "markdown",
   "id": "ec36f7fe-7f9a-4a28-8230-d189f5d893df",
   "metadata": {},
   "source": [
    "# Load the dataset"
   ]
  },
  {
   "cell_type": "code",
   "execution_count": 4,
   "id": "8a0abf67-b8ed-44f9-a614-4fecfc2af7c8",
   "metadata": {},
   "outputs": [],
   "source": [
    "#! wget https://s3.amazonaws.com/fast-ai-imageclas/imagenette2-160.tgz"
   ]
  },
  {
   "cell_type": "code",
   "execution_count": 5,
   "id": "6943973e-9cfe-4b8f-8c1d-ce3a5737e97e",
   "metadata": {},
   "outputs": [],
   "source": [
    "# Unzip raw zip file\n",
    "#! mkdir imagenette\n",
    "#! tar -xzvf 'imagenette2-160.tgz' -C '/notebooks/imagenette'"
   ]
  },
  {
   "cell_type": "code",
   "execution_count": 6,
   "id": "7fddfc7a-79c4-4728-9725-af99f04ed232",
   "metadata": {},
   "outputs": [
    {
     "name": "stderr",
     "output_type": "stream",
     "text": [
      "/opt/conda/lib/python3.8/site-packages/torch/utils/data/dataloader.py:561: UserWarning: This DataLoader will create 20 worker processes in total. Our suggested max number of worker in current system is 8, which is smaller than what this DataLoader is going to create. Please be aware that excessive worker creation might get DataLoader running slow or even freeze, lower the worker number to avoid potential slowness/freeze if necessary.\n",
      "  warnings.warn(_create_warning_msg(\n"
     ]
    }
   ],
   "source": [
    "import random\n",
    "from torch.utils.data import random_split\n",
    "\n",
    "\n",
    "\n",
    "transform_train2 = transforms.Compose([\n",
    "    \n",
    "    transforms.RandomHorizontalFlip(),\n",
    "    transforms.CenterCrop(150),\n",
    "    transforms.ToTensor(),\n",
    "])\n",
    "\n",
    "\n",
    "transform_test2 = transforms.Compose([\n",
    "\n",
    "    transforms.CenterCrop(150),\n",
    "    transforms.ToTensor(),\n",
    "\n",
    "])\n",
    "\n",
    "\n",
    "trainset_imagenette = torchvision.datasets.ImageFolder(\"/notebooks/imagenette/imagenette2-160/train\", transform=transform_train2)\n",
    "testset_imagenette = torchvision.datasets.ImageFolder(\"/notebooks/imagenette/imagenette2-160/val\", transform=transform_test2)\n",
    "\n",
    "\n",
    "train_set_imagenette, val_set_imagenette = torch.utils.data.random_split(trainset_imagenette, [8969,500])\n",
    "\n",
    "\n",
    "#create the dataloaders\n",
    "train_loader_imagenette = torch.utils.data.DataLoader(train_set_imagenette, batch_size=64, shuffle=True, num_workers=20)\n",
    "val_loader_imagenette = torch.utils.data.DataLoader(val_set_imagenette, batch_size=32, shuffle=True, num_workers=20)\n",
    "test_loader_imagenette = torch.utils.data.DataLoader(testset_imagenette, batch_size=48, shuffle=False, num_workers=20)\n"
   ]
  },
  {
   "cell_type": "markdown",
   "id": "e98fc1e6-0cdd-43f6-b4c3-65db4910d140",
   "metadata": {},
   "source": [
    "# Utility functions"
   ]
  },
  {
   "cell_type": "code",
   "execution_count": 7,
   "id": "677bc4a6-7d77-4cbb-867b-5ea4051de0d4",
   "metadata": {},
   "outputs": [],
   "source": [
    "from tqdm import tqdm\n",
    "from sklearn.metrics import precision_recall_curve\n",
    "from numpy import argmax\n",
    "from sklearn.metrics import roc_curve\n",
    "from sklearn.metrics import roc_auc_score\n",
    "from sklearn.metrics import confusion_matrix\n",
    "from sklearn.metrics import det_curve\n",
    "from sklearn.metrics import DetCurveDisplay\n",
    "import torch.nn.functional as F\n",
    "import matplotlib\n",
    "import seaborn as sns\n",
    "import pandas as pd\n",
    "from sklearn.metrics import roc_curve\n",
    "import torchattacks\n",
    "\n",
    "\n",
    "# change size of matplotlib pictures\n",
    "SMALL_SIZE = 15\n",
    "MEDIUM_SIZE = 16\n",
    "BIGGER_SIZE = 16\n",
    "\n",
    "plt.rc('font', size=SMALL_SIZE)          # controls default text sizes\n",
    "plt.rc('axes', titlesize=SMALL_SIZE)     # fontsize of the axes title\n",
    "plt.rc('axes', labelsize=SMALL_SIZE)    # fontsize of the x and y labels\n",
    "plt.rc('xtick', labelsize=SMALL_SIZE)    # fontsize of the tick labels\n",
    "plt.rc('ytick', labelsize=SMALL_SIZE)    # fontsize of the tick labels\n",
    "plt.rc('legend', fontsize=SMALL_SIZE)    # legend fontsize\n",
    "plt.rc('figure', titlesize=SMALL_SIZE)  # fontsize of the figure title\n",
    "\n",
    "\n",
    "\n",
    "\n",
    "# testing clean images\n",
    "def testing(net, loader):\n",
    "    \n",
    "    net.eval()\n",
    "    correct = 0\n",
    "    correct3 = 0\n",
    "    correct5 = 0\n",
    "    total = 0\n",
    "\n",
    "    with torch.no_grad():\n",
    "\n",
    "        for batch_idx, (inputs, targets) in enumerate(tqdm(loader)):\n",
    "            \n",
    "            inputs, targets = inputs.to(device), targets.to(device)\n",
    "            \n",
    "            outputs = net(inputs)\n",
    "\n",
    "            #top1 accuracy\n",
    "            _, predicted = torch.max(outputs.data, 1)\n",
    "            total += targets.size(0)\n",
    "            correct += predicted.eq(targets.data).cpu().sum().item()\n",
    "\n",
    "            #top3 accuracy\n",
    "            targets_resize = targets.view(-1,1)\n",
    "            _, predicted3 = outputs.topk(3, 1, True, True)\n",
    "            correct3 += torch.eq(predicted3, targets_resize).sum().float().item()\n",
    "                \n",
    "            #top5 accuracy\n",
    "            _, predicted5 = outputs.topk(5, 1, True, True)\n",
    "            correct5 += torch.eq(predicted5, targets_resize).sum().float().item()\n",
    "\n",
    "                \n",
    "        print('Top1 accuracy of the network on the normal test set:', 100.*correct / total)\n",
    "        print('Top3 accuracy of the network on the normal test set:', 100.*correct3 / total)\n",
    "        print('Top5 accuracy of the network on the normal test set:', 100.*correct5 / total)\n",
    "        \n",
    "\n",
    "        \n",
    "\n",
    "def detection_algorithm_PGD(model, val_loader, test_loader, epsilon, alpha, steps, printt=False):\n",
    "    \n",
    "        logit_adv = []\n",
    "        logit_or = []\n",
    "        ground = []\n",
    "        predicted_label_adv = []\n",
    "        predicted_label = []\n",
    "    \n",
    "        \n",
    "        best_threshold_energy, best_temp =  estimate_threshold_temp_scaling(model, val_loader, epsilon, alpha, steps, [0.1,0.2,0.5,1,2,10,20], \"temp.pdf\", save=False)\n",
    "\n",
    "        \n",
    "        model.zero_grad()\n",
    "        atk = torchattacks.PGD(model, eps=epsilon, alpha=alpha, steps=steps)\n",
    "        #atk = torchattacks.APGD(model, eps=epsilon, steps=steps)\n",
    "        \n",
    "        \n",
    "        for data, target in test_loader:\n",
    "            \n",
    "            model.eval()\n",
    "            data, target = data.to(device), target.to(device)\n",
    "            \n",
    "            # CLEAN\n",
    "            output_original = model(data)\n",
    "            _, predicted = torch.max(output_original.data, 1)\n",
    "            predicted_label.append(predicted)\n",
    "\n",
    "            #ADVERSARIAL\n",
    "            data_adv = atk(data, target)\n",
    "            output_adv = model(data_adv)\n",
    "            _, predicted_adv = torch.max(output_adv.data, 1)\n",
    "            predicted_label_adv.append(predicted_adv)\n",
    "            \n",
    "            #get logits\n",
    "            logit_adv.append(output_adv.data)\n",
    "            logit_or.append(output_original.data)\n",
    "            ground.append(target)\n",
    "            \n",
    "        \n",
    "        logit_adv = torch.cat([t for t in logit_adv], dim=0).cpu().numpy()\n",
    "        logit_or = torch.cat([t for t in logit_or], dim=0).cpu().numpy()\n",
    "        ground = torch.cat([t for t in ground], dim=0).cpu().numpy()\n",
    "        predicted_label = torch.cat([t for t in predicted_label], dim=0).cpu().numpy()\n",
    "        predicted_label_adv = torch.cat([t for t in predicted_label_adv], dim=0).cpu().numpy()\n",
    "\n",
    "        \n",
    "        energy_adv =  best_temp * - np.log(np.sum(np.exp(logit_adv/best_temp, dtype=np.float128),1))\n",
    "        energy_or = best_temp * - np.log(np.sum(np.exp(logit_or/best_temp, dtype=np.float128),1))\n",
    "        \n",
    "        \n",
    "        y = np.concatenate((np.zeros((len(energy_adv)), dtype=int),np.full((len(energy_adv)), 1)))\n",
    "        y_energy = np.concatenate((energy_or, energy_adv))\n",
    "        y_predicted_model = np.concatenate((predicted_label, predicted_label_adv))\n",
    "        ground = np.concatenate((ground,ground))\n",
    "        \n",
    "        if printt==True:\n",
    "        \n",
    "            TP = (energy_adv <= best_threshold_energy).sum()\n",
    "            FN = (energy_adv > best_threshold_energy).sum()\n",
    "            TPR = TP/(TP+FN)\n",
    "\n",
    "\n",
    "            TN = (energy_or > best_threshold_energy).sum()\n",
    "            FP = (energy_or <= best_threshold_energy).sum()\n",
    "            FNR = FN/(FN+TP)\n",
    "\n",
    "            FPR = FP/(FP+TN)\n",
    "\n",
    "            print('TPR (Sensitivity) = %f' % (TPR))\n",
    "            print('FPR = %f' %(FPR))\n",
    "            print('FNR (Specificity) = %f' % (FNR))\n",
    "            print('threshold energy : ', best_threshold_energy)\n",
    "        \n",
    "        \n",
    "        return TPR, FNR, FPR\n",
    "        \n",
    "\n",
    "\n",
    "    \n",
    "def estimate_threshold_temp_scaling(model, loader, epsilon, alpha, steps, temperature, name, save=False):\n",
    "    \n",
    "        correct = 0\n",
    "        correct_adv = 0\n",
    "        total = 0\n",
    "        logit_adv = []\n",
    "        logit_or = []\n",
    "        ground = []\n",
    "        ground_adv = []\n",
    "\n",
    "\n",
    "        atk = torchattacks.PGD(model, eps=epsilon, alpha=alpha, steps=steps)\n",
    "        #atk = torchattacks.APGD(model, eps=epsilon, steps=steps)\n",
    "        #adv_images = atk(images, labels)\n",
    "        \n",
    "        model.zero_grad()\n",
    "        \n",
    "        for data, target in loader:\n",
    "            \n",
    "            model.eval()\n",
    "            data, target = data.to(device), target.to(device)\n",
    "\n",
    "            output_original = model(data)\n",
    "            _, predicted_clean = torch.max(output_original.data, 1)\n",
    "\n",
    "            #adversarial accuracy\n",
    "            data_adv = atk(data, target)\n",
    "            output_adv = model(data_adv)\n",
    "            _, predicted_adv = torch.max(output_adv.data, 1)\n",
    "\n",
    "\n",
    "            #get confidences\n",
    "            logit_adv.append(output_adv.data)\n",
    "            logit_or.append(output_original.data)\n",
    "            ground.append(target)\n",
    "            ground_adv.append(predicted_adv)\n",
    "\n",
    "        \n",
    "        ground = torch.cat([t for t in ground], dim=0)   \n",
    "        ground_adv = torch.cat([t for t in ground_adv], dim=0)  \n",
    "        logit_adv = torch.cat([t for t in logit_adv], dim=0).cpu().numpy()\n",
    "        logit_or = torch.cat([t for t in logit_or], dim=0).cpu().numpy() \n",
    "        \n",
    "        best_temp=0\n",
    "        max_auc=0\n",
    "        best_thresh_energy=0\n",
    "        \n",
    "        for temp in temperature: \n",
    "\n",
    "            #ENERGY\n",
    "            energy_adv =  temp *  np.log(np.sum(np.exp(logit_adv/temp,dtype=np.float128),1))\n",
    "            energy_or = temp *  np.log(np.sum(np.exp(logit_or/temp,dtype=np.float128),1))\n",
    "\n",
    "            y = np.concatenate((np.zeros((len(energy_or)), dtype=int),np.full((len(energy_adv)), 1)))\n",
    "            y_energy = np.concatenate((energy_or, energy_adv))\n",
    "\n",
    "            fpr_energy, tpr_energy, thresholds = roc_curve(y, y_energy)\n",
    "            J_energy = tpr_energy - fpr_energy\n",
    "            ix = argmax(J_energy)\n",
    "            thresh = thresholds[ix]\n",
    "            auc = roc_auc_score(y, y_energy)\n",
    "            \n",
    "            if auc > max_auc:\n",
    "                best_temp = temp\n",
    "                max_auc = auc\n",
    "                best_thresh_energy=thresh\n",
    "            \n",
    "            if save==True:\n",
    "                \n",
    "                plt.plot(fpr_energy, tpr_energy, label='Temp. = '+str(temp) + ' - ' + 'AUC= '+str(round(auc,4)))\n",
    "        \n",
    "        return -best_thresh_energy, best_temp\n",
    "    "
   ]
  },
  {
   "cell_type": "markdown",
   "id": "c444a4b3-eee5-4268-807e-5e6c0150fa7b",
   "metadata": {},
   "source": [
    "# HE-PGD attack"
   ]
  },
  {
   "cell_type": "code",
   "execution_count": 8,
   "id": "63a58314-dcc3-480c-bda9-cd51ad8f658c",
   "metadata": {},
   "outputs": [],
   "source": [
    "def energy_loss(output, target, gamma):\n",
    "    \n",
    "    loss = nn.CrossEntropyLoss()(output,target) +  gamma * ( - torch.mean(torch.log(torch.sum(torch.exp(output),dim=1))))\n",
    "    #loss = nn.CrossEntropyLoss()(output,target) +  gamma *( - torch.log(torch.sum(torch.exp(output))) )\n",
    "    \n",
    "    return loss\n",
    "\n",
    "\n",
    "\n",
    "def PGD_high_energy(model, images, labels, eps=8/255, alpha=1/255, steps=5, gamma=0.5, random_start=True):\n",
    "\n",
    "        images = images.clone().detach().to(device)\n",
    "        labels = labels.clone().detach().to(device)\n",
    "\n",
    "        adv_images = images.clone().detach()\n",
    "\n",
    "        if random_start:\n",
    "            \n",
    "            # Starting at a uniformly random point\n",
    "            adv_images = adv_images + torch.empty_like(adv_images).uniform_(-eps, eps)\n",
    "            adv_images = torch.clamp(adv_images, min=0, max=1).detach()\n",
    "\n",
    "        for _ in range(steps):\n",
    "            \n",
    "            adv_images.requires_grad = True\n",
    "            outputs = model(adv_images)\n",
    "\n",
    "            # Calculate loss\n",
    "            cost = energy_loss(outputs, labels, gamma)\n",
    "\n",
    "            # Update adversarial images\n",
    "            grad = torch.autograd.grad(cost, adv_images,\n",
    "                                       retain_graph=False, create_graph=False)[0]\n",
    "\n",
    "            adv_images = adv_images.detach() + alpha*grad.sign()\n",
    "            delta = torch.clamp(adv_images - images, min=-eps, max=eps)\n",
    "            adv_images = torch.clamp(images + delta, min=0, max=1).detach()\n",
    "        \n",
    "        return adv_images\n",
    "\n",
    "\n",
    "    \n",
    "    \n",
    "def test_robustness_HEPGD(model, loader, epsilon, alpha, steps, factor, printt=True):\n",
    "        \"\"\"\n",
    "            test robustness with HE-PGD \n",
    "        \"\"\"\n",
    "        correct = 0\n",
    "        test_loss_adv = 0\n",
    "        correct_adv = 0\n",
    "        loss_func = nn.CrossEntropyLoss()\n",
    "        \n",
    "        for data, target in loader:\n",
    "            data, target = data.to(device), target.to(device)\n",
    "            \n",
    "            adv_images = PGD_high_energy(model, data, target, eps=epsilon, alpha=alpha, steps=steps, gamma=factor, random_start=True)\n",
    "            output_adv = model(adv_images)\n",
    "            \n",
    "            _, predicted = torch.max(output_adv.data, 1)\n",
    "            correct_adv += predicted.eq(target.data).cpu().sum().item()\n",
    "            \n",
    "        if printt == True:\n",
    "            print('Adv Accuracy: {}/{} ({:.0f}%)\\n'.format(\n",
    "                 correct_adv, len(loader.dataset),\n",
    "                100. * correct_adv / len(loader.dataset)))\n",
    "            \n",
    "        \n",
    "\n",
    "def test_robustness_PGD(model, loader, epsilon, alpha, steps, printt=True):\n",
    "        \"\"\"\n",
    "            test robustness with PGD \n",
    "        \"\"\"\n",
    "        atk = torchattacks.PGD(model, eps=epsilon, alpha=alpha, steps=steps)\n",
    "        #atk.set_normalization_used(mean=means, std=std)\n",
    "        \n",
    "        correct = 0\n",
    "        test_loss_adv = 0\n",
    "        correct_adv = 0\n",
    "        loss_func = nn.CrossEntropyLoss()\n",
    "        \n",
    "        for data, target in loader:\n",
    "            data, target = data.to(device), target.to(device)\n",
    "            \n",
    "            data_adv = atk(data, target)\n",
    "            import torch.nn.functional as F\n",
    "            output_adv = model(data_adv)\n",
    "            _, predicted = torch.max(output_adv.data, 1)\n",
    "            correct_adv += predicted.eq(target.data).cpu().sum().item()\n",
    "            \n",
    "        if printt == True:\n",
    "            print('Adv Accuracy: {}/{} ({:.0f}%)\\n'.format(\n",
    "                 correct_adv, len(loader.dataset),\n",
    "                100. * correct_adv / len(loader.dataset)))\n",
    "        \n",
    "        \n",
    "    \n",
    "def compute_logit(model, loader, epsilon, steps):\n",
    "        \"\"\"\n",
    "            It computes the logit of clean and adversarial (standard PGD) data\n",
    "        \"\"\"\n",
    "        logit_adv = []\n",
    "        logit_or = []\n",
    "        ground = []\n",
    "        model.eval()\n",
    "        \n",
    "        atk = torchattacks.PGD(model, eps=epsilon, alpha=1/255, steps=steps)\n",
    "        #atk.set_normalization_used(mean=means, std=std)\n",
    "        \n",
    "        for data, target in loader:\n",
    "            \n",
    "            model.eval()\n",
    "            data, target = data.to(device), target.to(device)\n",
    "            \n",
    "            #origianl clean data\n",
    "            output_original = model(data)\n",
    "            \n",
    "            #adv data\n",
    "            data_adv = atk(data, target)\n",
    "            output_adv = model(data_adv)\n",
    "            \n",
    "            #get confidences\n",
    "            logit_adv.append(output_adv.data)\n",
    "            logit_or.append(output_original.data)\n",
    "            ground.append(target)\n",
    "                   \n",
    "        logit_adv = torch.cat([t for t in logit_adv], dim=0).cpu().numpy()\n",
    "        logit_or = torch.cat([t for t in logit_or], dim=0).cpu().numpy()\n",
    "        ground = torch.cat([t for t in ground], dim=0)\n",
    "        \n",
    "        #compute also the energy\n",
    "        energy_adv =  - np.log( np.sum(np.exp(logit_adv,dtype=np.float128),1) )\n",
    "        energy_or = - np.log( np.sum(np.exp(logit_or,dtype=np.float128),1) )\n",
    "        confidences_adv = F.softmax(torch.Tensor(logit_adv),dim=1)\n",
    "            \n",
    "        return confidences_adv.cpu().numpy(), ground.cpu().numpy(), logit_or, logit_adv, energy_or, energy_adv\n",
    "    \n",
    "    \n",
    "    \n",
    "    \n",
    "def compute_logit_HEPGD(model, loader, epsilon, steps, factor):\n",
    "        \"\"\"\n",
    "            compute the logit of clean and adversarial (HE-PGD) data\n",
    "        \"\"\"\n",
    "        logit_adv = []\n",
    "        logit_or = []\n",
    "        ground = []\n",
    "        model.eval()\n",
    "        \n",
    "        for data, target in loader:\n",
    "            \n",
    "            model.eval()\n",
    "            data, target = data.to(device), target.to(device)\n",
    "            \n",
    "            #origianl clean data\n",
    "            output_original = model(data)\n",
    "            \n",
    "            #adv data\n",
    "            data_adv = PGD_high_energy(model, data, target, eps=epsilon, alpha=1/255, steps=steps, gamma=factor, random_start=True)\n",
    "            output_adv = model(data_adv)\n",
    "            \n",
    "            #get confidences\n",
    "            logit_adv.append(output_adv.data)\n",
    "            logit_or.append(output_original.data)\n",
    "            ground.append(target)\n",
    "                   \n",
    "        logit_adv = torch.cat([t for t in logit_adv], dim=0).cpu().numpy()\n",
    "        logit_or = torch.cat([t for t in logit_or], dim=0).cpu().numpy()\n",
    "        ground = torch.cat([t for t in ground], dim=0)\n",
    "        \n",
    "        energy_adv =  - np.log(np.sum(np.exp(logit_adv,dtype=np.float128),1))\n",
    "        energy_or = - np.log(np.sum(np.exp(logit_or,dtype=np.float128),1))\n",
    "        confidences_adv = F.softmax(torch.Tensor(logit_adv),dim=1)\n",
    "            \n",
    "        return confidences_adv.cpu().numpy(), ground.cpu().numpy(), logit_or, logit_adv, energy_or, energy_adv\n",
    "    \n"
   ]
  },
  {
   "cell_type": "markdown",
   "id": "4c56cc10-c4b3-41c0-bf32-ba0ac69742cd",
   "metadata": {},
   "source": [
    "# Load the model if exists"
   ]
  },
  {
   "cell_type": "code",
   "execution_count": 9,
   "id": "b133750f-ee52-4861-9bb7-14dbe513446c",
   "metadata": {},
   "outputs": [],
   "source": [
    "class Normalize(nn.Module):\n",
    "    def __init__(self, mean, std) :\n",
    "        super(Normalize, self).__init__()\n",
    "        self.register_buffer('mean', torch.Tensor(mean))\n",
    "        self.register_buffer('std', torch.Tensor(std))\n",
    "        \n",
    "    def forward(self, input):\n",
    "        # Broadcasting\n",
    "        mean = self.mean.reshape(1, 3, 1, 1)\n",
    "        std = self.std.reshape(1, 3, 1, 1)\n",
    "        return (input - mean) / std\n"
   ]
  },
  {
   "cell_type": "code",
   "execution_count": 16,
   "id": "a4ce6fae-9325-465e-8e35-4e4df1f24b5b",
   "metadata": {},
   "outputs": [
    {
     "name": "stdout",
     "output_type": "stream",
     "text": [
      "31\n"
     ]
    },
    {
     "name": "stderr",
     "output_type": "stream",
     "text": [
      "100%|██████████| 82/82 [00:03<00:00, 20.51it/s]"
     ]
    },
    {
     "name": "stdout",
     "output_type": "stream",
     "text": [
      "Top1 accuracy of the network on the normal test set: 84.02547770700637\n",
      "Top3 accuracy of the network on the normal test set: 94.90445859872611\n",
      "Top5 accuracy of the network on the normal test set: 98.1656050955414\n"
     ]
    },
    {
     "name": "stderr",
     "output_type": "stream",
     "text": [
      "\n"
     ]
    }
   ],
   "source": [
    "import ResNet_imagenette\n",
    "\n",
    "#model\n",
    "means = [0.491, 0.482, 0.446]   #mean = [0.485, 0.456, 0.406]\n",
    "std = [0.202, 0.199, 0.201]     #std = [0.229, 0.224, 0.225]\n",
    "\n",
    "norm_layer = Normalize(mean=means, std=std)\n",
    "\n",
    "\n",
    "model1 = nn.Sequential(\n",
    "    norm_layer,\n",
    "    ResNet_imagenette.ResNet10(10,True)\n",
    ").to(device)\n",
    "\n",
    "# Test Base Model\n",
    "learning_rate = 0.001\n",
    "checkpoint = torch.load(\"/notebooks/models_imagenette_Gaussian/ResNet10_imagenette_NOGaussian.pt\")\n",
    "model1.load_state_dict(checkpoint['model_state_dict'])\n",
    "print(checkpoint['epoch'])\n",
    "\n",
    "testing(model1, test_loader_imagenette)\n"
   ]
  },
  {
   "cell_type": "markdown",
   "id": "9860580c-2ad5-4051-81c5-d83611b23c4a",
   "metadata": {},
   "source": [
    "# Plots"
   ]
  },
  {
   "cell_type": "code",
   "execution_count": 11,
   "id": "6f5ed3ba-d7e5-405b-b9a4-dfaba1b44d75",
   "metadata": {},
   "outputs": [
    {
     "name": "stdout",
     "output_type": "stream",
     "text": [
      "Adv Accuracy: 1/3925 (0%)\n",
      "\n"
     ]
    }
   ],
   "source": [
    "test_robustness_HEPGD(model1, test_loader_imagenette, 8/255, 1/255, 10, 1.2, printt=True)"
   ]
  },
  {
   "cell_type": "code",
   "execution_count": 15,
   "id": "96c03a8b-d788-4494-a3a2-42728e7af777",
   "metadata": {},
   "outputs": [
    {
     "name": "stdout",
     "output_type": "stream",
     "text": [
      "Adv Accuracy: 344/3925 (9%)\n",
      "\n"
     ]
    }
   ],
   "source": [
    "test_robustness_PGD(model1, test_loader_imagenette, 8/255, 1/255, 2, printt=True)"
   ]
  },
  {
   "cell_type": "code",
   "execution_count": 44,
   "id": "fa0ad814-a3a4-4042-b1a5-cfd4a8c4c0ee",
   "metadata": {},
   "outputs": [
    {
     "name": "stderr",
     "output_type": "stream",
     "text": [
      "/opt/conda/lib/python3.8/site-packages/torch/utils/data/dataloader.py:487: UserWarning: This DataLoader will create 20 worker processes in total. Our suggested max number of worker in current system is 8, which is smaller than what this DataLoader is going to create. Please be aware that excessive worker creation might get DataLoader running slow or even freeze, lower the worker number to avoid potential slowness/freeze if necessary.\n",
      "  warnings.warn(_create_warning_msg(\n"
     ]
    },
    {
     "data": {
      "text/plain": [
       "(-18.415224805093460901, 5)"
      ]
     },
     "execution_count": 44,
     "metadata": {},
     "output_type": "execute_result"
    },
    {
     "data": {
      "image/png": "[encoded data removed]",
      "text/plain": [
       "<Figure size 432x288 with 1 Axes>"
      ]
     },
     "metadata": {
      "needs_background": "light"
     },
     "output_type": "display_data"
    }
   ],
   "source": [
    "estimate_threshold_temp_scaling(model1, val_loader_imagenette, 8/255, 1/255, 20, [2,5,10,20], \"/notebooks/Images/temp_scaling2.pdf\", save=True)"
   ]
  },
  {
   "cell_type": "markdown",
   "id": "96b30b07-ed38-44ed-86f9-4ede7518d1f4",
   "metadata": {},
   "source": [
    "# Test detection accuracy"
   ]
  },
  {
   "cell_type": "code",
   "execution_count": 18,
   "id": "306f10b6-236d-4754-9442-4c95f9c05cc7",
   "metadata": {},
   "outputs": [
    {
     "name": "stderr",
     "output_type": "stream",
     "text": [
      "/opt/conda/lib/python3.8/site-packages/torch/utils/data/dataloader.py:561: UserWarning: This DataLoader will create 20 worker processes in total. Our suggested max number of worker in current system is 8, which is smaller than what this DataLoader is going to create. Please be aware that excessive worker creation might get DataLoader running slow or even freeze, lower the worker number to avoid potential slowness/freeze if necessary.\n",
      "  warnings.warn(_create_warning_msg(\n"
     ]
    },
    {
     "name": "stdout",
     "output_type": "stream",
     "text": [
      "TPR (Sensitivity) = 0.982420\n",
      "FPR = 0.013758\n",
      "FNR (Specificity) = 0.017580\n",
      "threshold energy :  -19.94031204866045121\n"
     ]
    },
    {
     "data": {
      "text/plain": [
       "(0.9824203821656051, 0.017579617834394906, 0.013757961783439491)"
      ]
     },
     "execution_count": 18,
     "metadata": {},
     "output_type": "execute_result"
    }
   ],
   "source": [
    "detection_algorithm_PGD(model1, val_loader_imagenette, test_loader_imagenette, 8/255, 1/255, 40, printt=True)"
   ]
  },
  {
   "cell_type": "code",
   "execution_count": 19,
   "id": "ea722add-09ff-447e-8bcb-4543a5458a14",
   "metadata": {},
   "outputs": [
    {
     "name": "stderr",
     "output_type": "stream",
     "text": [
      "/opt/conda/lib/python3.8/site-packages/torch/utils/data/dataloader.py:561: UserWarning: This DataLoader will create 20 worker processes in total. Our suggested max number of worker in current system is 8, which is smaller than what this DataLoader is going to create. Please be aware that excessive worker creation might get DataLoader running slow or even freeze, lower the worker number to avoid potential slowness/freeze if necessary.\n",
      "  warnings.warn(_create_warning_msg(\n"
     ]
    },
    {
     "name": "stdout",
     "output_type": "stream",
     "text": [
      "TPR (Sensitivity) = 0.996178\n",
      "FPR = 0.000000\n",
      "FNR (Specificity) = 0.003822\n",
      "threshold energy :  -32.729127044341079625\n"
     ]
    },
    {
     "data": {
      "text/plain": [
       "(0.9961783439490446, 0.003821656050955414, 0.0)"
      ]
     },
     "execution_count": 19,
     "metadata": {},
     "output_type": "execute_result"
    }
   ],
   "source": [
    "detection_algorithm_PGD(model1, val_loader_imagenette, test_loader_imagenette, 16/255, 1/255, 40, printt=True)"
   ]
  },
  {
   "cell_type": "code",
   "execution_count": null,
   "id": "1948d354-1ded-4c99-97a1-20a814852695",
   "metadata": {},
   "outputs": [],
   "source": []
  }
 ],
 "metadata": {
  "kernelspec": {
   "display_name": "Python 3 (ipykernel)",
   "language": "python",
   "name": "python3"
  },
  "language_info": {
   "codemirror_mode": {
    "name": "ipython",
    "version": 3
   },
   "file_extension": ".py",
   "mimetype": "text/x-python",
   "name": "python",
   "nbconvert_exporter": "python",
   "pygments_lexer": "ipython3",
   "version": "3.8.12"
  }
 },
 "nbformat": 4,
 "nbformat_minor": 5
}
